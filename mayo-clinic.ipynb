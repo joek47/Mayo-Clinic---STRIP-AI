{
 "cells": [
  {
   "cell_type": "code",
   "execution_count": 1,
   "id": "5718d75e",
   "metadata": {
    "_cell_guid": "b1076dfc-b9ad-4769-8c92-a6c4dae69d19",
    "_uuid": "8f2839f25d086af736a60e9eeb907d3b93b6e0e5",
    "execution": {
     "iopub.execute_input": "2022-08-21T14:27:28.465067Z",
     "iopub.status.busy": "2022-08-21T14:27:28.464013Z",
     "iopub.status.idle": "2022-08-21T14:27:31.721088Z",
     "shell.execute_reply": "2022-08-21T14:27:31.720148Z"
    },
    "papermill": {
     "duration": 3.265261,
     "end_time": "2022-08-21T14:27:31.723793",
     "exception": false,
     "start_time": "2022-08-21T14:27:28.458532",
     "status": "completed"
    },
    "tags": []
   },
   "outputs": [],
   "source": [
    "import os\n",
    "import gc\n",
    "import cv2\n",
    "import copy\n",
    "import time\n",
    "import random\n",
    "import string\n",
    "import joblib\n",
    "import tifffile\n",
    "import numpy as np \n",
    "import pandas as pd \n",
    "import torch\n",
    "from torch import nn\n",
    "import seaborn as sns\n",
    "from torchvision import models\n",
    "import matplotlib.pyplot as plt\n",
    "from torch.utils.data import Dataset, DataLoader\n",
    "from sklearn.model_selection import train_test_split\n",
    "from tqdm.notebook import tqdm\n",
    "from torch.optim import lr_scheduler\n",
    "import warnings\n",
    "warnings.filterwarnings(\"ignore\")\n",
    "gc.enable()"
   ]
  },
  {
   "cell_type": "code",
   "execution_count": 2,
   "id": "25053181",
   "metadata": {
    "execution": {
     "iopub.execute_input": "2022-08-21T14:27:31.733082Z",
     "iopub.status.busy": "2022-08-21T14:27:31.732081Z",
     "iopub.status.idle": "2022-08-21T14:27:31.761718Z",
     "shell.execute_reply": "2022-08-21T14:27:31.760790Z"
    },
    "papermill": {
     "duration": 0.036355,
     "end_time": "2022-08-21T14:27:31.763730",
     "exception": false,
     "start_time": "2022-08-21T14:27:31.727375",
     "status": "completed"
    },
    "tags": []
   },
   "outputs": [
    {
     "data": {
      "text/html": [
       "<div>\n",
       "<style scoped>\n",
       "    .dataframe tbody tr th:only-of-type {\n",
       "        vertical-align: middle;\n",
       "    }\n",
       "\n",
       "    .dataframe tbody tr th {\n",
       "        vertical-align: top;\n",
       "    }\n",
       "\n",
       "    .dataframe thead th {\n",
       "        text-align: right;\n",
       "    }\n",
       "</style>\n",
       "<table border=\"1\" class=\"dataframe\">\n",
       "  <thead>\n",
       "    <tr style=\"text-align: right;\">\n",
       "      <th></th>\n",
       "      <th>image_id</th>\n",
       "      <th>center_id</th>\n",
       "      <th>patient_id</th>\n",
       "      <th>image_num</th>\n",
       "    </tr>\n",
       "  </thead>\n",
       "  <tbody>\n",
       "    <tr>\n",
       "      <th>0</th>\n",
       "      <td>006388_0</td>\n",
       "      <td>11</td>\n",
       "      <td>006388</td>\n",
       "      <td>0</td>\n",
       "    </tr>\n",
       "    <tr>\n",
       "      <th>1</th>\n",
       "      <td>008e5c_0</td>\n",
       "      <td>11</td>\n",
       "      <td>008e5c</td>\n",
       "      <td>0</td>\n",
       "    </tr>\n",
       "    <tr>\n",
       "      <th>2</th>\n",
       "      <td>00c058_0</td>\n",
       "      <td>11</td>\n",
       "      <td>00c058</td>\n",
       "      <td>0</td>\n",
       "    </tr>\n",
       "    <tr>\n",
       "      <th>3</th>\n",
       "      <td>01adc5_0</td>\n",
       "      <td>11</td>\n",
       "      <td>01adc5</td>\n",
       "      <td>0</td>\n",
       "    </tr>\n",
       "  </tbody>\n",
       "</table>\n",
       "</div>"
      ],
      "text/plain": [
       "   image_id  center_id patient_id  image_num\n",
       "0  006388_0         11     006388          0\n",
       "1  008e5c_0         11     008e5c          0\n",
       "2  00c058_0         11     00c058          0\n",
       "3  01adc5_0         11     01adc5          0"
      ]
     },
     "execution_count": 2,
     "metadata": {},
     "output_type": "execute_result"
    }
   ],
   "source": [
    "debug = False\n",
    "generate_new = True\n",
    "test_df = pd.read_csv(\"../input/mayo-clinic-strip-ai/test.csv\")\n",
    "dirs = [\"../input/mayo-clinic-strip-ai/train/\", \"../input/mayo-clinic-strip-ai/test/\"]\n",
    "test_df"
   ]
  },
  {
   "cell_type": "code",
   "execution_count": 3,
   "id": "66358487",
   "metadata": {
    "execution": {
     "iopub.execute_input": "2022-08-21T14:27:31.772716Z",
     "iopub.status.busy": "2022-08-21T14:27:31.771154Z",
     "iopub.status.idle": "2022-08-21T14:28:09.466792Z",
     "shell.execute_reply": "2022-08-21T14:28:09.465859Z"
    },
    "papermill": {
     "duration": 37.705673,
     "end_time": "2022-08-21T14:28:09.472600",
     "exception": false,
     "start_time": "2022-08-21T14:27:31.766927",
     "status": "completed"
    },
    "tags": []
   },
   "outputs": [
    {
     "data": {
      "application/vnd.jupyter.widget-view+json": {
       "model_id": "2f7b18ba380e405ab076fe736febf3d6",
       "version_major": 2,
       "version_minor": 0
      },
      "text/plain": [
       "  0%|          | 0/4 [00:00<?, ?it/s]"
      ]
     },
     "metadata": {},
     "output_type": "display_data"
    }
   ],
   "source": [
    "try:\n",
    "    os.mkdir(\"../test/\")\n",
    "except:\n",
    "    pass\n",
    "for i in tqdm(range(test_df.shape[0])):\n",
    "    img_id = test_df.iloc[i].image_id\n",
    "    try:\n",
    "        sz = os.path.getsize(dirs[1] + img_id + \".tif\")\n",
    "    except:\n",
    "        sz = 1000000000\n",
    "    if(sz > 8e8):\n",
    "        img = np.zeros((512,512,3), np.uint8)\n",
    "    else:\n",
    "        try:\n",
    "            img = cv2.resize(tifffile.imread(dirs[1] + img_id + \".tif\"), (512, 512))\n",
    "        except:\n",
    "            img = np.zeros((512,512,3), np.uint8)\n",
    "    cv2.imwrite(f\"../test/{img_id}.jpg\", img)\n",
    "    del img\n",
    "    gc.collect()"
   ]
  },
  {
   "cell_type": "code",
   "execution_count": 4,
   "id": "b86b43ed",
   "metadata": {
    "execution": {
     "iopub.execute_input": "2022-08-21T14:28:09.480578Z",
     "iopub.status.busy": "2022-08-21T14:28:09.480016Z",
     "iopub.status.idle": "2022-08-21T14:28:09.489143Z",
     "shell.execute_reply": "2022-08-21T14:28:09.488288Z"
    },
    "papermill": {
     "duration": 0.015174,
     "end_time": "2022-08-21T14:28:09.491100",
     "exception": false,
     "start_time": "2022-08-21T14:28:09.475926",
     "status": "completed"
    },
    "tags": []
   },
   "outputs": [],
   "source": [
    "class ImgDataset(Dataset):\n",
    "    def __init__(self, df):\n",
    "        self.df = df \n",
    "        self.train = 'label' in df.columns\n",
    "    def __len__(self):\n",
    "        return len(self.df)\n",
    "    \n",
    "    def __getitem__(self, index):\n",
    "        if(generate_new):\n",
    "            paths = [\"../test/\", \"../train/\"]\n",
    "        else:\n",
    "            paths = [\"../input/jpg-images-strip-ai/test/\", \"../input/jpg-images-strip-ai/train/\"]\n",
    "        try:\n",
    "            image = cv2.imread(paths[self.train] + self.df.iloc[index].image_id + \".jpg\")\n",
    "        except:\n",
    "            image = np.zeros((512,512,3), np.uint8)\n",
    "        label = 0\n",
    "        try:\n",
    "            if len(image.shape) == 5:\n",
    "                image = image.squeeze().transpose(1, 2, 0)\n",
    "            image = cv2.resize(image, (512, 512)).transpose(2, 0, 1)\n",
    "        except:\n",
    "            image = np.zeros((3, 512, 512))\n",
    "        if(self.train):\n",
    "            label = {\"CE\" : 0, \"LAA\": 1}[self.df.iloc[index].label]\n",
    "        patient_id = self.df.iloc[index].patient_id\n",
    "        return image, label, patient_id"
   ]
  },
  {
   "cell_type": "code",
   "execution_count": 5,
   "id": "265a7562",
   "metadata": {
    "execution": {
     "iopub.execute_input": "2022-08-21T14:28:09.498788Z",
     "iopub.status.busy": "2022-08-21T14:28:09.498523Z",
     "iopub.status.idle": "2022-08-21T14:28:09.505261Z",
     "shell.execute_reply": "2022-08-21T14:28:09.504250Z"
    },
    "papermill": {
     "duration": 0.013424,
     "end_time": "2022-08-21T14:28:09.507711",
     "exception": false,
     "start_time": "2022-08-21T14:28:09.494287",
     "status": "completed"
    },
    "tags": []
   },
   "outputs": [],
   "source": [
    "def predict(model, dataloader):\n",
    "    model.cuda()\n",
    "    model.eval()\n",
    "    dataloader = dataloader\n",
    "    outputs = []\n",
    "    s = nn.Softmax(dim=1)\n",
    "    ids = []\n",
    "    for item in tqdm(dataloader, leave=False):\n",
    "        patient_id = item[2][0]\n",
    "        try:\n",
    "            images = item[0].cuda().float()\n",
    "            ids.append(patient_id)\n",
    "            output = model(images)\n",
    "            outputs.append(s(output.cpu()[:,:2])[0].detach().numpy())\n",
    "        except:\n",
    "            ids.append(patient_id)\n",
    "            outputs.append(s(torch.tensor([[1, 1]]).float())[0].detach().numpy())\n",
    "    return np.array(outputs), ids"
   ]
  },
  {
   "cell_type": "code",
   "execution_count": 6,
   "id": "866535e7",
   "metadata": {
    "execution": {
     "iopub.execute_input": "2022-08-21T14:28:09.515066Z",
     "iopub.status.busy": "2022-08-21T14:28:09.514773Z",
     "iopub.status.idle": "2022-08-21T14:28:10.704055Z",
     "shell.execute_reply": "2022-08-21T14:28:10.703108Z"
    },
    "papermill": {
     "duration": 1.195448,
     "end_time": "2022-08-21T14:28:10.706342",
     "exception": false,
     "start_time": "2022-08-21T14:28:09.510894",
     "status": "completed"
    },
    "tags": []
   },
   "outputs": [],
   "source": [
    "#model = torch.hub.load('NVIDIA/DeepLearningExamples:torchhub', 'nvidia_efficientnet_b4', pretrained=True)\n",
    "model = torch.jit.load('../input/cnnstripai/model.pth')\n",
    "batch_size = 1\n",
    "test_loader = DataLoader(\n",
    "    ImgDataset(test_df), \n",
    "    batch_size=batch_size, \n",
    "    shuffle=False, \n",
    "    num_workers=1\n",
    ")"
   ]
  },
  {
   "cell_type": "code",
   "execution_count": 7,
   "id": "2e80c727",
   "metadata": {
    "execution": {
     "iopub.execute_input": "2022-08-21T14:28:10.714347Z",
     "iopub.status.busy": "2022-08-21T14:28:10.714052Z",
     "iopub.status.idle": "2022-08-21T14:28:21.127311Z",
     "shell.execute_reply": "2022-08-21T14:28:21.126294Z"
    },
    "papermill": {
     "duration": 10.419571,
     "end_time": "2022-08-21T14:28:21.129420",
     "exception": false,
     "start_time": "2022-08-21T14:28:10.709849",
     "status": "completed"
    },
    "tags": []
   },
   "outputs": [
    {
     "data": {
      "application/vnd.jupyter.widget-view+json": {
       "model_id": "c581d69703d94184aecc69fbcac67146",
       "version_major": 2,
       "version_minor": 0
      },
      "text/plain": [
       "  0%|          | 0/4 [00:00<?, ?it/s]"
      ]
     },
     "metadata": {},
     "output_type": "display_data"
    }
   ],
   "source": [
    "anss, ids = predict(model, test_loader)"
   ]
  },
  {
   "cell_type": "code",
   "execution_count": 8,
   "id": "c40c9fc4",
   "metadata": {
    "execution": {
     "iopub.execute_input": "2022-08-21T14:28:21.138747Z",
     "iopub.status.busy": "2022-08-21T14:28:21.137787Z",
     "iopub.status.idle": "2022-08-21T14:28:21.154188Z",
     "shell.execute_reply": "2022-08-21T14:28:21.153313Z"
    },
    "papermill": {
     "duration": 0.023165,
     "end_time": "2022-08-21T14:28:21.156415",
     "exception": false,
     "start_time": "2022-08-21T14:28:21.133250",
     "status": "completed"
    },
    "tags": []
   },
   "outputs": [],
   "source": [
    "prob = pd.DataFrame({\"CE\" : anss[:,0], \"LAA\" : anss[:,1], \"id\" : ids}).groupby(\"id\").mean()"
   ]
  },
  {
   "cell_type": "code",
   "execution_count": 9,
   "id": "9c59d152",
   "metadata": {
    "execution": {
     "iopub.execute_input": "2022-08-21T14:28:21.165139Z",
     "iopub.status.busy": "2022-08-21T14:28:21.164857Z",
     "iopub.status.idle": "2022-08-21T14:28:21.176475Z",
     "shell.execute_reply": "2022-08-21T14:28:21.175649Z"
    },
    "papermill": {
     "duration": 0.018489,
     "end_time": "2022-08-21T14:28:21.178539",
     "exception": false,
     "start_time": "2022-08-21T14:28:21.160050",
     "status": "completed"
    },
    "tags": []
   },
   "outputs": [],
   "source": [
    "submission = pd.read_csv(\"../input/mayo-clinic-strip-ai/sample_submission.csv\")"
   ]
  },
  {
   "cell_type": "code",
   "execution_count": 10,
   "id": "63609ca3",
   "metadata": {
    "execution": {
     "iopub.execute_input": "2022-08-21T14:28:21.187043Z",
     "iopub.status.busy": "2022-08-21T14:28:21.186018Z",
     "iopub.status.idle": "2022-08-21T14:28:21.191657Z",
     "shell.execute_reply": "2022-08-21T14:28:21.190771Z"
    },
    "papermill": {
     "duration": 0.011573,
     "end_time": "2022-08-21T14:28:21.193571",
     "exception": false,
     "start_time": "2022-08-21T14:28:21.181998",
     "status": "completed"
    },
    "tags": []
   },
   "outputs": [],
   "source": [
    "submission.CE = prob.CE.to_list()\n",
    "submission.LAA = prob.LAA.to_list()"
   ]
  },
  {
   "cell_type": "code",
   "execution_count": 11,
   "id": "de7251a0",
   "metadata": {
    "execution": {
     "iopub.execute_input": "2022-08-21T14:28:21.201556Z",
     "iopub.status.busy": "2022-08-21T14:28:21.201253Z",
     "iopub.status.idle": "2022-08-21T14:28:21.211903Z",
     "shell.execute_reply": "2022-08-21T14:28:21.211013Z"
    },
    "papermill": {
     "duration": 0.017135,
     "end_time": "2022-08-21T14:28:21.214052",
     "exception": false,
     "start_time": "2022-08-21T14:28:21.196917",
     "status": "completed"
    },
    "tags": []
   },
   "outputs": [
    {
     "data": {
      "text/html": [
       "<div>\n",
       "<style scoped>\n",
       "    .dataframe tbody tr th:only-of-type {\n",
       "        vertical-align: middle;\n",
       "    }\n",
       "\n",
       "    .dataframe tbody tr th {\n",
       "        vertical-align: top;\n",
       "    }\n",
       "\n",
       "    .dataframe thead th {\n",
       "        text-align: right;\n",
       "    }\n",
       "</style>\n",
       "<table border=\"1\" class=\"dataframe\">\n",
       "  <thead>\n",
       "    <tr style=\"text-align: right;\">\n",
       "      <th></th>\n",
       "      <th>patient_id</th>\n",
       "      <th>CE</th>\n",
       "      <th>LAA</th>\n",
       "    </tr>\n",
       "  </thead>\n",
       "  <tbody>\n",
       "    <tr>\n",
       "      <th>0</th>\n",
       "      <td>006388</td>\n",
       "      <td>0.620316</td>\n",
       "      <td>0.379684</td>\n",
       "    </tr>\n",
       "    <tr>\n",
       "      <th>1</th>\n",
       "      <td>008e5c</td>\n",
       "      <td>0.524719</td>\n",
       "      <td>0.475281</td>\n",
       "    </tr>\n",
       "    <tr>\n",
       "      <th>2</th>\n",
       "      <td>00c058</td>\n",
       "      <td>0.282198</td>\n",
       "      <td>0.717802</td>\n",
       "    </tr>\n",
       "    <tr>\n",
       "      <th>3</th>\n",
       "      <td>01adc5</td>\n",
       "      <td>0.414263</td>\n",
       "      <td>0.585737</td>\n",
       "    </tr>\n",
       "  </tbody>\n",
       "</table>\n",
       "</div>"
      ],
      "text/plain": [
       "  patient_id        CE       LAA\n",
       "0     006388  0.620316  0.379684\n",
       "1     008e5c  0.524719  0.475281\n",
       "2     00c058  0.282198  0.717802\n",
       "3     01adc5  0.414263  0.585737"
      ]
     },
     "execution_count": 11,
     "metadata": {},
     "output_type": "execute_result"
    }
   ],
   "source": [
    "submission"
   ]
  },
  {
   "cell_type": "code",
   "execution_count": 12,
   "id": "65df32b5",
   "metadata": {
    "execution": {
     "iopub.execute_input": "2022-08-21T14:28:21.223599Z",
     "iopub.status.busy": "2022-08-21T14:28:21.222990Z",
     "iopub.status.idle": "2022-08-21T14:28:21.230664Z",
     "shell.execute_reply": "2022-08-21T14:28:21.229781Z"
    },
    "papermill": {
     "duration": 0.014372,
     "end_time": "2022-08-21T14:28:21.232861",
     "exception": false,
     "start_time": "2022-08-21T14:28:21.218489",
     "status": "completed"
    },
    "tags": []
   },
   "outputs": [],
   "source": [
    "submission.to_csv(\"submission.csv\", index = False)"
   ]
  }
 ],
 "metadata": {
  "kernelspec": {
   "display_name": "Python 3",
   "language": "python",
   "name": "python3"
  },
  "language_info": {
   "codemirror_mode": {
    "name": "ipython",
    "version": 3
   },
   "file_extension": ".py",
   "mimetype": "text/x-python",
   "name": "python",
   "nbconvert_exporter": "python",
   "pygments_lexer": "ipython3",
   "version": "3.7.12"
  },
  "papermill": {
   "default_parameters": {},
   "duration": 63.31613,
   "end_time": "2022-08-21T14:28:23.950186",
   "environment_variables": {},
   "exception": null,
   "input_path": "__notebook__.ipynb",
   "output_path": "__notebook__.ipynb",
   "parameters": {},
   "start_time": "2022-08-21T14:27:20.634056",
   "version": "2.3.4"
  },
  "widgets": {
   "application/vnd.jupyter.widget-state+json": {
    "state": {
     "2830a4039075419ab8e50393e6d13502": {
      "model_module": "@jupyter-widgets/base",
      "model_module_version": "1.2.0",
      "model_name": "LayoutModel",
      "state": {
       "_model_module": "@jupyter-widgets/base",
       "_model_module_version": "1.2.0",
       "_model_name": "LayoutModel",
       "_view_count": null,
       "_view_module": "@jupyter-widgets/base",
       "_view_module_version": "1.2.0",
       "_view_name": "LayoutView",
       "align_content": null,
       "align_items": null,
       "align_self": null,
       "border": null,
       "bottom": null,
       "display": null,
       "flex": null,
       "flex_flow": null,
       "grid_area": null,
       "grid_auto_columns": null,
       "grid_auto_flow": null,
       "grid_auto_rows": null,
       "grid_column": null,
       "grid_gap": null,
       "grid_row": null,
       "grid_template_areas": null,
       "grid_template_columns": null,
       "grid_template_rows": null,
       "height": null,
       "justify_content": null,
       "justify_items": null,
       "left": null,
       "margin": null,
       "max_height": null,
       "max_width": null,
       "min_height": null,
       "min_width": null,
       "object_fit": null,
       "object_position": null,
       "order": null,
       "overflow": null,
       "overflow_x": null,
       "overflow_y": null,
       "padding": null,
       "right": null,
       "top": null,
       "visibility": null,
       "width": null
      }
     },
     "2f7b18ba380e405ab076fe736febf3d6": {
      "model_module": "@jupyter-widgets/controls",
      "model_module_version": "1.5.0",
      "model_name": "HBoxModel",
      "state": {
       "_dom_classes": [],
       "_model_module": "@jupyter-widgets/controls",
       "_model_module_version": "1.5.0",
       "_model_name": "HBoxModel",
       "_view_count": null,
       "_view_module": "@jupyter-widgets/controls",
       "_view_module_version": "1.5.0",
       "_view_name": "HBoxView",
       "box_style": "",
       "children": [
        "IPY_MODEL_422113d6ede149a6ba21cbcac8b22deb",
        "IPY_MODEL_975f0eb010734565b2bfa33584f99796",
        "IPY_MODEL_c2329f6de609497d89fcc89ee2f91921"
       ],
       "layout": "IPY_MODEL_2830a4039075419ab8e50393e6d13502"
      }
     },
     "347f7a45ee444915a36171a1a2e359b6": {
      "model_module": "@jupyter-widgets/base",
      "model_module_version": "1.2.0",
      "model_name": "LayoutModel",
      "state": {
       "_model_module": "@jupyter-widgets/base",
       "_model_module_version": "1.2.0",
       "_model_name": "LayoutModel",
       "_view_count": null,
       "_view_module": "@jupyter-widgets/base",
       "_view_module_version": "1.2.0",
       "_view_name": "LayoutView",
       "align_content": null,
       "align_items": null,
       "align_self": null,
       "border": null,
       "bottom": null,
       "display": null,
       "flex": null,
       "flex_flow": null,
       "grid_area": null,
       "grid_auto_columns": null,
       "grid_auto_flow": null,
       "grid_auto_rows": null,
       "grid_column": null,
       "grid_gap": null,
       "grid_row": null,
       "grid_template_areas": null,
       "grid_template_columns": null,
       "grid_template_rows": null,
       "height": null,
       "justify_content": null,
       "justify_items": null,
       "left": null,
       "margin": null,
       "max_height": null,
       "max_width": null,
       "min_height": null,
       "min_width": null,
       "object_fit": null,
       "object_position": null,
       "order": null,
       "overflow": null,
       "overflow_x": null,
       "overflow_y": null,
       "padding": null,
       "right": null,
       "top": null,
       "visibility": null,
       "width": null
      }
     },
     "422113d6ede149a6ba21cbcac8b22deb": {
      "model_module": "@jupyter-widgets/controls",
      "model_module_version": "1.5.0",
      "model_name": "HTMLModel",
      "state": {
       "_dom_classes": [],
       "_model_module": "@jupyter-widgets/controls",
       "_model_module_version": "1.5.0",
       "_model_name": "HTMLModel",
       "_view_count": null,
       "_view_module": "@jupyter-widgets/controls",
       "_view_module_version": "1.5.0",
       "_view_name": "HTMLView",
       "description": "",
       "description_tooltip": null,
       "layout": "IPY_MODEL_bf5668d2ad9d4b38b9c312135f528bfa",
       "placeholder": "​",
       "style": "IPY_MODEL_c6b7d246e99a42abbbcc7016d66d8deb",
       "value": "100%"
      }
     },
     "44d970f41ca141c0a86d9110c233e166": {
      "model_module": "@jupyter-widgets/controls",
      "model_module_version": "1.5.0",
      "model_name": "ProgressStyleModel",
      "state": {
       "_model_module": "@jupyter-widgets/controls",
       "_model_module_version": "1.5.0",
       "_model_name": "ProgressStyleModel",
       "_view_count": null,
       "_view_module": "@jupyter-widgets/base",
       "_view_module_version": "1.2.0",
       "_view_name": "StyleView",
       "bar_color": null,
       "description_width": ""
      }
     },
     "48e65bae66d042b2aa39773fe2c2e74a": {
      "model_module": "@jupyter-widgets/controls",
      "model_module_version": "1.5.0",
      "model_name": "DescriptionStyleModel",
      "state": {
       "_model_module": "@jupyter-widgets/controls",
       "_model_module_version": "1.5.0",
       "_model_name": "DescriptionStyleModel",
       "_view_count": null,
       "_view_module": "@jupyter-widgets/base",
       "_view_module_version": "1.2.0",
       "_view_name": "StyleView",
       "description_width": ""
      }
     },
     "56b2fb206c0c4c5cb667aeea3fe4b8e1": {
      "model_module": "@jupyter-widgets/base",
      "model_module_version": "1.2.0",
      "model_name": "LayoutModel",
      "state": {
       "_model_module": "@jupyter-widgets/base",
       "_model_module_version": "1.2.0",
       "_model_name": "LayoutModel",
       "_view_count": null,
       "_view_module": "@jupyter-widgets/base",
       "_view_module_version": "1.2.0",
       "_view_name": "LayoutView",
       "align_content": null,
       "align_items": null,
       "align_self": null,
       "border": null,
       "bottom": null,
       "display": null,
       "flex": null,
       "flex_flow": null,
       "grid_area": null,
       "grid_auto_columns": null,
       "grid_auto_flow": null,
       "grid_auto_rows": null,
       "grid_column": null,
       "grid_gap": null,
       "grid_row": null,
       "grid_template_areas": null,
       "grid_template_columns": null,
       "grid_template_rows": null,
       "height": null,
       "justify_content": null,
       "justify_items": null,
       "left": null,
       "margin": null,
       "max_height": null,
       "max_width": null,
       "min_height": null,
       "min_width": null,
       "object_fit": null,
       "object_position": null,
       "order": null,
       "overflow": null,
       "overflow_x": null,
       "overflow_y": null,
       "padding": null,
       "right": null,
       "top": null,
       "visibility": null,
       "width": null
      }
     },
     "5978e55d6cdc430dbd8fc20b72148c01": {
      "model_module": "@jupyter-widgets/base",
      "model_module_version": "1.2.0",
      "model_name": "LayoutModel",
      "state": {
       "_model_module": "@jupyter-widgets/base",
       "_model_module_version": "1.2.0",
       "_model_name": "LayoutModel",
       "_view_count": null,
       "_view_module": "@jupyter-widgets/base",
       "_view_module_version": "1.2.0",
       "_view_name": "LayoutView",
       "align_content": null,
       "align_items": null,
       "align_self": null,
       "border": null,
       "bottom": null,
       "display": null,
       "flex": null,
       "flex_flow": null,
       "grid_area": null,
       "grid_auto_columns": null,
       "grid_auto_flow": null,
       "grid_auto_rows": null,
       "grid_column": null,
       "grid_gap": null,
       "grid_row": null,
       "grid_template_areas": null,
       "grid_template_columns": null,
       "grid_template_rows": null,
       "height": null,
       "justify_content": null,
       "justify_items": null,
       "left": null,
       "margin": null,
       "max_height": null,
       "max_width": null,
       "min_height": null,
       "min_width": null,
       "object_fit": null,
       "object_position": null,
       "order": null,
       "overflow": null,
       "overflow_x": null,
       "overflow_y": null,
       "padding": null,
       "right": null,
       "top": null,
       "visibility": null,
       "width": null
      }
     },
     "84c9d764f13f4ac6993f29fb6f65385b": {
      "model_module": "@jupyter-widgets/base",
      "model_module_version": "1.2.0",
      "model_name": "LayoutModel",
      "state": {
       "_model_module": "@jupyter-widgets/base",
       "_model_module_version": "1.2.0",
       "_model_name": "LayoutModel",
       "_view_count": null,
       "_view_module": "@jupyter-widgets/base",
       "_view_module_version": "1.2.0",
       "_view_name": "LayoutView",
       "align_content": null,
       "align_items": null,
       "align_self": null,
       "border": null,
       "bottom": null,
       "display": null,
       "flex": null,
       "flex_flow": null,
       "grid_area": null,
       "grid_auto_columns": null,
       "grid_auto_flow": null,
       "grid_auto_rows": null,
       "grid_column": null,
       "grid_gap": null,
       "grid_row": null,
       "grid_template_areas": null,
       "grid_template_columns": null,
       "grid_template_rows": null,
       "height": null,
       "justify_content": null,
       "justify_items": null,
       "left": null,
       "margin": null,
       "max_height": null,
       "max_width": null,
       "min_height": null,
       "min_width": null,
       "object_fit": null,
       "object_position": null,
       "order": null,
       "overflow": null,
       "overflow_x": null,
       "overflow_y": null,
       "padding": null,
       "right": null,
       "top": null,
       "visibility": null,
       "width": null
      }
     },
     "8d60a8cf6ad44d91927ea0a05bf1db5c": {
      "model_module": "@jupyter-widgets/controls",
      "model_module_version": "1.5.0",
      "model_name": "FloatProgressModel",
      "state": {
       "_dom_classes": [],
       "_model_module": "@jupyter-widgets/controls",
       "_model_module_version": "1.5.0",
       "_model_name": "FloatProgressModel",
       "_view_count": null,
       "_view_module": "@jupyter-widgets/controls",
       "_view_module_version": "1.5.0",
       "_view_name": "ProgressView",
       "bar_style": "",
       "description": "",
       "description_tooltip": null,
       "layout": "IPY_MODEL_347f7a45ee444915a36171a1a2e359b6",
       "max": 4.0,
       "min": 0.0,
       "orientation": "horizontal",
       "style": "IPY_MODEL_cf4879fcea4d4f9eb4aa19d373464d9f",
       "value": 4.0
      }
     },
     "975f0eb010734565b2bfa33584f99796": {
      "model_module": "@jupyter-widgets/controls",
      "model_module_version": "1.5.0",
      "model_name": "FloatProgressModel",
      "state": {
       "_dom_classes": [],
       "_model_module": "@jupyter-widgets/controls",
       "_model_module_version": "1.5.0",
       "_model_name": "FloatProgressModel",
       "_view_count": null,
       "_view_module": "@jupyter-widgets/controls",
       "_view_module_version": "1.5.0",
       "_view_name": "ProgressView",
       "bar_style": "success",
       "description": "",
       "description_tooltip": null,
       "layout": "IPY_MODEL_5978e55d6cdc430dbd8fc20b72148c01",
       "max": 4.0,
       "min": 0.0,
       "orientation": "horizontal",
       "style": "IPY_MODEL_44d970f41ca141c0a86d9110c233e166",
       "value": 4.0
      }
     },
     "986fe576d8894f03aa110a1089b0eaeb": {
      "model_module": "@jupyter-widgets/controls",
      "model_module_version": "1.5.0",
      "model_name": "HTMLModel",
      "state": {
       "_dom_classes": [],
       "_model_module": "@jupyter-widgets/controls",
       "_model_module_version": "1.5.0",
       "_model_name": "HTMLModel",
       "_view_count": null,
       "_view_module": "@jupyter-widgets/controls",
       "_view_module_version": "1.5.0",
       "_view_name": "HTMLView",
       "description": "",
       "description_tooltip": null,
       "layout": "IPY_MODEL_56b2fb206c0c4c5cb667aeea3fe4b8e1",
       "placeholder": "​",
       "style": "IPY_MODEL_e2d2970b2ac548d9be02bcdf9f20bd18",
       "value": " 75%"
      }
     },
     "b8bbecaf6c784976b17b3f0b2983c622": {
      "model_module": "@jupyter-widgets/base",
      "model_module_version": "1.2.0",
      "model_name": "LayoutModel",
      "state": {
       "_model_module": "@jupyter-widgets/base",
       "_model_module_version": "1.2.0",
       "_model_name": "LayoutModel",
       "_view_count": null,
       "_view_module": "@jupyter-widgets/base",
       "_view_module_version": "1.2.0",
       "_view_name": "LayoutView",
       "align_content": null,
       "align_items": null,
       "align_self": null,
       "border": null,
       "bottom": null,
       "display": null,
       "flex": null,
       "flex_flow": null,
       "grid_area": null,
       "grid_auto_columns": null,
       "grid_auto_flow": null,
       "grid_auto_rows": null,
       "grid_column": null,
       "grid_gap": null,
       "grid_row": null,
       "grid_template_areas": null,
       "grid_template_columns": null,
       "grid_template_rows": null,
       "height": null,
       "justify_content": null,
       "justify_items": null,
       "left": null,
       "margin": null,
       "max_height": null,
       "max_width": null,
       "min_height": null,
       "min_width": null,
       "object_fit": null,
       "object_position": null,
       "order": null,
       "overflow": null,
       "overflow_x": null,
       "overflow_y": null,
       "padding": null,
       "right": null,
       "top": null,
       "visibility": null,
       "width": null
      }
     },
     "bf5668d2ad9d4b38b9c312135f528bfa": {
      "model_module": "@jupyter-widgets/base",
      "model_module_version": "1.2.0",
      "model_name": "LayoutModel",
      "state": {
       "_model_module": "@jupyter-widgets/base",
       "_model_module_version": "1.2.0",
       "_model_name": "LayoutModel",
       "_view_count": null,
       "_view_module": "@jupyter-widgets/base",
       "_view_module_version": "1.2.0",
       "_view_name": "LayoutView",
       "align_content": null,
       "align_items": null,
       "align_self": null,
       "border": null,
       "bottom": null,
       "display": null,
       "flex": null,
       "flex_flow": null,
       "grid_area": null,
       "grid_auto_columns": null,
       "grid_auto_flow": null,
       "grid_auto_rows": null,
       "grid_column": null,
       "grid_gap": null,
       "grid_row": null,
       "grid_template_areas": null,
       "grid_template_columns": null,
       "grid_template_rows": null,
       "height": null,
       "justify_content": null,
       "justify_items": null,
       "left": null,
       "margin": null,
       "max_height": null,
       "max_width": null,
       "min_height": null,
       "min_width": null,
       "object_fit": null,
       "object_position": null,
       "order": null,
       "overflow": null,
       "overflow_x": null,
       "overflow_y": null,
       "padding": null,
       "right": null,
       "top": null,
       "visibility": null,
       "width": null
      }
     },
     "c2329f6de609497d89fcc89ee2f91921": {
      "model_module": "@jupyter-widgets/controls",
      "model_module_version": "1.5.0",
      "model_name": "HTMLModel",
      "state": {
       "_dom_classes": [],
       "_model_module": "@jupyter-widgets/controls",
       "_model_module_version": "1.5.0",
       "_model_name": "HTMLModel",
       "_view_count": null,
       "_view_module": "@jupyter-widgets/controls",
       "_view_module_version": "1.5.0",
       "_view_name": "HTMLView",
       "description": "",
       "description_tooltip": null,
       "layout": "IPY_MODEL_b8bbecaf6c784976b17b3f0b2983c622",
       "placeholder": "​",
       "style": "IPY_MODEL_de5291faf5e6429da65b84ff4e443477",
       "value": " 4/4 [00:37&lt;00:00, 12.61s/it]"
      }
     },
     "c581d69703d94184aecc69fbcac67146": {
      "model_module": "@jupyter-widgets/controls",
      "model_module_version": "1.5.0",
      "model_name": "HBoxModel",
      "state": {
       "_dom_classes": [],
       "_model_module": "@jupyter-widgets/controls",
       "_model_module_version": "1.5.0",
       "_model_name": "HBoxModel",
       "_view_count": null,
       "_view_module": "@jupyter-widgets/controls",
       "_view_module_version": "1.5.0",
       "_view_name": "HBoxView",
       "box_style": "",
       "children": [
        "IPY_MODEL_986fe576d8894f03aa110a1089b0eaeb",
        "IPY_MODEL_8d60a8cf6ad44d91927ea0a05bf1db5c",
        "IPY_MODEL_f56c40aaabae442d94de89b142998e38"
       ],
       "layout": "IPY_MODEL_84c9d764f13f4ac6993f29fb6f65385b"
      }
     },
     "c6b7d246e99a42abbbcc7016d66d8deb": {
      "model_module": "@jupyter-widgets/controls",
      "model_module_version": "1.5.0",
      "model_name": "DescriptionStyleModel",
      "state": {
       "_model_module": "@jupyter-widgets/controls",
       "_model_module_version": "1.5.0",
       "_model_name": "DescriptionStyleModel",
       "_view_count": null,
       "_view_module": "@jupyter-widgets/base",
       "_view_module_version": "1.2.0",
       "_view_name": "StyleView",
       "description_width": ""
      }
     },
     "cf4879fcea4d4f9eb4aa19d373464d9f": {
      "model_module": "@jupyter-widgets/controls",
      "model_module_version": "1.5.0",
      "model_name": "ProgressStyleModel",
      "state": {
       "_model_module": "@jupyter-widgets/controls",
       "_model_module_version": "1.5.0",
       "_model_name": "ProgressStyleModel",
       "_view_count": null,
       "_view_module": "@jupyter-widgets/base",
       "_view_module_version": "1.2.0",
       "_view_name": "StyleView",
       "bar_color": null,
       "description_width": ""
      }
     },
     "de5291faf5e6429da65b84ff4e443477": {
      "model_module": "@jupyter-widgets/controls",
      "model_module_version": "1.5.0",
      "model_name": "DescriptionStyleModel",
      "state": {
       "_model_module": "@jupyter-widgets/controls",
       "_model_module_version": "1.5.0",
       "_model_name": "DescriptionStyleModel",
       "_view_count": null,
       "_view_module": "@jupyter-widgets/base",
       "_view_module_version": "1.2.0",
       "_view_name": "StyleView",
       "description_width": ""
      }
     },
     "e2d2970b2ac548d9be02bcdf9f20bd18": {
      "model_module": "@jupyter-widgets/controls",
      "model_module_version": "1.5.0",
      "model_name": "DescriptionStyleModel",
      "state": {
       "_model_module": "@jupyter-widgets/controls",
       "_model_module_version": "1.5.0",
       "_model_name": "DescriptionStyleModel",
       "_view_count": null,
       "_view_module": "@jupyter-widgets/base",
       "_view_module_version": "1.2.0",
       "_view_name": "StyleView",
       "description_width": ""
      }
     },
     "f56c40aaabae442d94de89b142998e38": {
      "model_module": "@jupyter-widgets/controls",
      "model_module_version": "1.5.0",
      "model_name": "HTMLModel",
      "state": {
       "_dom_classes": [],
       "_model_module": "@jupyter-widgets/controls",
       "_model_module_version": "1.5.0",
       "_model_name": "HTMLModel",
       "_view_count": null,
       "_view_module": "@jupyter-widgets/controls",
       "_view_module_version": "1.5.0",
       "_view_name": "HTMLView",
       "description": "",
       "description_tooltip": null,
       "layout": "IPY_MODEL_fcd7e1bef8204b63b7be1421bb271fdd",
       "placeholder": "​",
       "style": "IPY_MODEL_48e65bae66d042b2aa39773fe2c2e74a",
       "value": " 3/4 [00:07&lt;00:01,  1.71s/it]"
      }
     },
     "fcd7e1bef8204b63b7be1421bb271fdd": {
      "model_module": "@jupyter-widgets/base",
      "model_module_version": "1.2.0",
      "model_name": "LayoutModel",
      "state": {
       "_model_module": "@jupyter-widgets/base",
       "_model_module_version": "1.2.0",
       "_model_name": "LayoutModel",
       "_view_count": null,
       "_view_module": "@jupyter-widgets/base",
       "_view_module_version": "1.2.0",
       "_view_name": "LayoutView",
       "align_content": null,
       "align_items": null,
       "align_self": null,
       "border": null,
       "bottom": null,
       "display": null,
       "flex": null,
       "flex_flow": null,
       "grid_area": null,
       "grid_auto_columns": null,
       "grid_auto_flow": null,
       "grid_auto_rows": null,
       "grid_column": null,
       "grid_gap": null,
       "grid_row": null,
       "grid_template_areas": null,
       "grid_template_columns": null,
       "grid_template_rows": null,
       "height": null,
       "justify_content": null,
       "justify_items": null,
       "left": null,
       "margin": null,
       "max_height": null,
       "max_width": null,
       "min_height": null,
       "min_width": null,
       "object_fit": null,
       "object_position": null,
       "order": null,
       "overflow": null,
       "overflow_x": null,
       "overflow_y": null,
       "padding": null,
       "right": null,
       "top": null,
       "visibility": null,
       "width": null
      }
     }
    },
    "version_major": 2,
    "version_minor": 0
   }
  }
 },
 "nbformat": 4,
 "nbformat_minor": 5
}
